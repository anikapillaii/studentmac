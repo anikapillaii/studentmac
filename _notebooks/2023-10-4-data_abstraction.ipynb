{
 "cells": [
  {
   "cell_type": "markdown",
   "metadata": {},
   "source": [
    "---\n",
    "toc: true\n",
    "comments: false\n",
    "layout: post\n",
    "title: Data Abstraction Notes\n",
    "description: This is what the first team did in their presentation\n",
    "type: tangibles\n",
    "courses: { compsci: {week: 7} }\n",
    "---"
   ]
  },
  {
   "cell_type": "code",
   "execution_count": 1,
   "metadata": {},
   "outputs": [
    {
     "data": {
      "text/plain": [
       "15"
      ]
     },
     "execution_count": 1,
     "metadata": {},
     "output_type": "execute_result"
    }
   ],
   "source": [
    "number = 15\n",
    "print(number)"
   ]
  },
  {
   "cell_type": "code",
   "execution_count": 2,
   "metadata": {},
   "outputs": [
    {
     "name": "stdout",
     "output_type": "stream",
     "text": [
      "name\n",
      "True\n"
     ]
    }
   ],
   "source": [
    "string = \"name\"\n",
    "print(string)\n",
    "boolean = True\n",
    "print(boolean)"
   ]
  },
  {
   "cell_type": "code",
   "execution_count": 3,
   "metadata": {},
   "outputs": [
    {
     "name": "stdout",
     "output_type": "stream",
     "text": [
      "Anika\n",
      "bob\n",
      "bob so\n"
     ]
    }
   ],
   "source": [
    "currentName = \"Anika\"\n",
    "print(currentName)\n",
    "\n",
    "currentName = \"bob\"\n",
    "print(currentName)\n",
    "\n",
    "idk = \"so\"\n",
    "print (currentName + \" \" + idk)"
   ]
  },
  {
   "cell_type": "code",
   "execution_count": 4,
   "metadata": {},
   "outputs": [
    {
     "name": "stdout",
     "output_type": "stream",
     "text": [
      "60\n"
     ]
    }
   ],
   "source": [
    "num1 = 30\n",
    "num2 = num1\n",
    "print(num1 + num2)"
   ]
  },
  {
   "cell_type": "code",
   "execution_count": 9,
   "metadata": {},
   "outputs": [
    {
     "name": "stdout",
     "output_type": "stream",
     "text": [
      "J D\n",
      "BD\n"
     ]
    }
   ],
   "source": [
    "name = \"John Doe\"\n",
    "print(name[0]+ \" \" + name[5])\n",
    "\n",
    "currentName = \"B\"\n",
    "print(currentName + name[5])"
   ]
  },
  {
   "cell_type": "code",
   "execution_count": 14,
   "metadata": {},
   "outputs": [],
   "source": [
    "def profile (self, name, age):\n",
    "    name.age = Anika\n",
    "    self.age = 17\n",
    "\n",
    "people = {\n",
    "    \"John\": 32,\n",
    "    \"Rob\":23,\n",
    "    \"Amanda\":19\n",
    "\n",
    "    }"
   ]
  },
  {
   "cell_type": "code",
   "execution_count": null,
   "metadata": {},
   "outputs": [],
   "source": []
  }
 ],
 "metadata": {
  "kernelspec": {
   "display_name": "Python 3",
   "language": "python",
   "name": "python3"
  },
  "language_info": {
   "codemirror_mode": {
    "name": "ipython",
    "version": 3
   },
   "file_extension": ".py",
   "mimetype": "text/x-python",
   "name": "python",
   "nbconvert_exporter": "python",
   "pygments_lexer": "ipython3",
   "version": "3.9.6"
  },
  "orig_nbformat": 4
 },
 "nbformat": 4,
 "nbformat_minor": 2
}
