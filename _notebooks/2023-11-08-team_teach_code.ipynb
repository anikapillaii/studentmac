{
 "cells": [
  {
   "cell_type": "markdown",
   "metadata": {},
   "source": [
    "---\n",
    "toc: false\n",
    "comments: true\n",
    "layout: post\n",
    "title: Team Teach Code\n",
    "courses: { compsci: {week: 12} }\n",
    "type: plans\n",
    "---"
   ]
  },
  {
   "cell_type": "markdown",
   "metadata": {},
   "source": [
    "The team teaches project proved to be a highly engaging and transformative experience, offering us the opportunity to not only explore our own research but also to draw inspiration and knowledge from our fellow students. It added a dynamic and exciting element to our traditional school routine.\n",
    "\n",
    "In our role, we were tasked with teaching CB 3.9 and 3.15, where we delved deep into the fascinating realm of developing algorithms. This journey allowed us to blend together various elements we had encountered in our previous studies, including booleans, conditionals, and other fundamental programming concepts, to create sophisticated programs capable of tackling intricate tasks. The knowledge we acquired during this process wasn’t confined to theoretical understanding; we actively applied these newfound skills to our passion projects.\n",
    "\n",
    "In particular, we harnessed the power of algorithms within our AI and optimizer projects. For our AI system, algorithms played a pivotal role in both training the AI and shaping its decision-making logic. We used these algorithms to analyze data and provide intelligent recommendations to users, based on a multitude of factors. Meanwhile, our optimizer project demonstrated the practical applications of algorithms in finance. It involved processing over 6000 possible weightings of stock portfolios to determine the most optimal investment choices. This complex task was made possible through the strategic implementation of algorithms."
   ]
  },
  {
   "cell_type": "code",
   "execution_count": null,
   "metadata": {},
   "outputs": [],
   "source": [
    "# Example of Algorithms in the code that I created optiizer\n",
    "\n",
    "# finding weights, return, volitilty, and sharpe ratio. \n",
    "\n",
    "stocks = pd.concat([price['AAPL'], price['NVDA'], price['MSFT'], price['TSLA'], price['AMZN'], price['NFLX'], price['QCOM'], price['SBUX']], axis = 1)\n",
    "log_ret = np.log(stocks/stocks.shift(1))\n",
    "\n",
    "# setting up variables\n",
    "np.random.seed(42)\n",
    "num_ports = 6000\n",
    "num_stocks = 8\n",
    "all_weights = np.zeros((num_ports, len(stocks.columns)))\n",
    "ret_arr = np.zeros(num_ports)\n",
    "vol_arr = np.zeros(num_ports)\n",
    "sharpe_arr = np.zeros(num_ports)\n",
    "\n",
    "# going through all possible weights\n",
    "for x in range(num_ports):\n",
    "    # Weights\n",
    "    weights = np.array(np.random.random(num_stocks))\n",
    "    weights = weights/np.sum(weights)\n",
    "    \n",
    "    # Save weights\n",
    "    all_weights[x,:] = weights\n",
    "    \n",
    "    # Expected return\n",
    "    ret_arr[x] = np.sum( (log_ret.mean() * weights * 252))\n",
    "    \n",
    "    # Expected volatility\n",
    "    vol_arr[x] = np.sqrt(np.dot(weights.T, np.dot(log_ret.cov()*252, weights)))\n",
    "    \n",
    "    # Sharpe Ratio\n",
    "    sharpe_arr[x] = ret_arr[x]/vol_arr[x]"
   ]
  },
  {
   "cell_type": "markdown",
   "metadata": {},
   "source": [
    "<style> \n",
    "@import url('https://fonts.googleapis.com/css2?family=Roboto');\n",
    "h1{ text-align: center; font-size: 50px; color: #0352fc; font-family: 'Roboto', serif;}\n",
    "h2{ text-align: left; font-size: 18px; color: #0352fc;}\n",
    "body{ text-align: left; font-size: 15px; font-family: 'Roboto', serif; background: black; }\n",
    "</style>"
   ]
  }
 ],
 "metadata": {
  "kernelspec": {
   "display_name": "Python 3",
   "language": "python",
   "name": "python3"
  },
  "language_info": {
   "codemirror_mode": {
    "name": "ipython",
    "version": 3
   },
   "file_extension": ".py",
   "mimetype": "text/x-python",
   "name": "python",
   "nbconvert_exporter": "python",
   "pygments_lexer": "ipython3",
   "version": "3.10.12"
  },
  "orig_nbformat": 4
 },
 "nbformat": 4,
 "nbformat_minor": 2
}
